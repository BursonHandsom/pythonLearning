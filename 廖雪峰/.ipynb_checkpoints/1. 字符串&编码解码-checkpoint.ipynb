{
 "cells": [
  {
   "cell_type": "markdown",
   "metadata": {},
   "source": [
    "### 练习"
   ]
  },
  {
   "cell_type": "markdown",
   "metadata": {},
   "source": [
    "小明的成绩从去年的72分提升到了今年的85分，请计算小明成绩提升的百分点，并用字符串格式化显示出'xx.x%'，只保留小数点后1位："
   ]
  },
  {
   "cell_type": "code",
   "execution_count": 5,
   "metadata": {},
   "outputs": [
    {
     "name": "stdout",
     "output_type": "stream",
     "text": [
      "13.89%\n",
      "13.89%\n"
     ]
    }
   ],
   "source": [
    "s1 = 72\n",
    "s2 = 85\n",
    "percentUp = (82 - 72) / 72\n",
    "# 打印方式1\n",
    "print(\"%.2f%%\" % (percentUp * 100))\n",
    "# 打印方式2\n",
    "print(\"{0:.2f}%\".format(percentUp * 100))"
   ]
  },
  {
   "cell_type": "code",
   "execution_count": 7,
   "metadata": {},
   "outputs": [
    {
     "name": "stdout",
     "output_type": "stream",
     "text": [
      "Python-中文\n",
      "b'Python-\\xe4\\xb8\\xad\\xe6\\x96\\x87'\n",
      "Python-中文\n"
     ]
    }
   ],
   "source": [
    "s = 'Python-中文'\n",
    "print(s)\n",
    "# 得到以\"utf-8\"编码后的结果\n",
    "b = s.encode('utf-8')\n",
    "# 得到\"utf-8\"解码后的结果\n",
    "print(b)\n",
    "print(b.decode('utf-8'))"
   ]
  },
  {
   "cell_type": "code",
   "execution_count": null,
   "metadata": {},
   "outputs": [],
   "source": []
  }
 ],
 "metadata": {
  "kernelspec": {
   "display_name": "Python 3",
   "language": "python",
   "name": "python3"
  },
  "language_info": {
   "codemirror_mode": {
    "name": "ipython",
    "version": 3
   },
   "file_extension": ".py",
   "mimetype": "text/x-python",
   "name": "python",
   "nbconvert_exporter": "python",
   "pygments_lexer": "ipython3",
   "version": "3.7.0"
  }
 },
 "nbformat": 4,
 "nbformat_minor": 2
}
