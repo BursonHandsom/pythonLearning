{
 "cells": [
  {
   "cell_type": "code",
   "execution_count": 47,
   "metadata": {},
   "outputs": [],
   "source": [
    "def trim(s):\n",
    "    start = 0\n",
    "    end = -1\n",
    "    for i in s:\n",
    "        if i == \" \":\n",
    "            start += 1\n",
    "        else:\n",
    "            break\n",
    "    print(s)\n",
    "    print(s[::-1])\n",
    "    for j in s[::-1]:\n",
    "        end -= 1\n",
    "        if j == \" \":\n",
    "        else:\n",
    "            end += 1\n",
    "            break\n",
    "    print(start,end)\n",
    "    s = s[start:end]\n",
    "    return s"
   ]
  },
  {
   "cell_type": "code",
   "execution_count": 48,
   "metadata": {},
   "outputs": [
    {
     "name": "stdout",
     "output_type": "stream",
     "text": [
      "    1  3\n",
      "3  1    \n",
      "4 0\n"
     ]
    },
    {
     "data": {
      "text/plain": [
       "''"
      ]
     },
     "execution_count": 48,
     "metadata": {},
     "output_type": "execute_result"
    }
   ],
   "source": [
    "trim(\"    1  3\")"
   ]
  }
 ],
 "metadata": {
  "kernelspec": {
   "display_name": "Python 3",
   "language": "python",
   "name": "python3"
  },
  "language_info": {
   "codemirror_mode": {
    "name": "ipython",
    "version": 3
   },
   "file_extension": ".py",
   "mimetype": "text/x-python",
   "name": "python",
   "nbconvert_exporter": "python",
   "pygments_lexer": "ipython3",
   "version": "3.7.0"
  }
 },
 "nbformat": 4,
 "nbformat_minor": 2
}
