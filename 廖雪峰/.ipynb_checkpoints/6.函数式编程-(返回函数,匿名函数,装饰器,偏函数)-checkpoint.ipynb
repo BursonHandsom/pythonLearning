{
 "cells": [
  {
   "cell_type": "markdown",
   "metadata": {},
   "source": [
    "返回函数"
   ]
  },
  {
   "cell_type": "markdown",
   "metadata": {},
   "source": [
    "函数返回函数，引发闭包\n",
    "闭包：调用一个函数时，将函数中的函数及其环境打包返回。\n",
    "注意：内层函数不能直接修改外层变量的值(地址引用?)"
   ]
  },
  {
   "cell_type": "code",
   "execution_count": 8,
   "metadata": {},
   "outputs": [
    {
     "name": "stdout",
     "output_type": "stream",
     "text": [
      "[10, 0]\n",
      "[10, 20]\n",
      "[0, 20]\n"
     ]
    }
   ],
   "source": [
    "origin = [0, 0]  # 坐标系统原点  \n",
    "legal_x = [0, 50]  # x轴方向的合法坐标  \n",
    "legal_y = [0, 50]  # y轴方向的合法坐标  \n",
    "def create(pos=origin):  \n",
    "    def player(direction,step):  \n",
    "        # 这里应该首先判断参数direction,step的合法性，比如direction不能斜着走，step不能为负等  \n",
    "        # 然后还要对新生成的x，y坐标的合法性进行判断处理，这里主要是想介绍闭包，就不详细写了。  \n",
    "        new_x = pos[0] + direction[0]*step  \n",
    "        new_y = pos[1] + direction[1]*step  \n",
    "        pos[0] = new_x  \n",
    "        pos[1] = new_y  \n",
    "        #注意！此处不能写成 pos = [new_x, new_y]，原因在上文有说过  \n",
    "        return pos  \n",
    "    return player  \n",
    " \n",
    "player = create()  # 创建棋子player，起点为原点  \n",
    "print(player([1,0],10))  # 向x轴正方向移动10步  \n",
    "print(player([0,1],20))  # 向y轴正方向移动20步  \n",
    "print(player([-1,0],10))  # 向x轴负方向移动10步"
   ]
  },
  {
   "cell_type": "markdown",
   "metadata": {},
   "source": [
    "匿名函数：lambda *args: resunlt expression"
   ]
  },
  {
   "cell_type": "markdown",
   "metadata": {},
   "source": [
    "```\n",
    "def fa(*args):\n",
    "    return expression with args\n",
    "```"
   ]
  },
  {
   "cell_type": "code",
   "execution_count": 26,
   "metadata": {},
   "outputs": [],
   "source": [
    "def log(func):\n",
    "    def wrapper(*args, **kw):\n",
    "        print('call %s():' % func.__name__)\n",
    "        return func(*args, **kw)\n",
    "    return wrappe"
   ]
  },
  {
   "cell_type": "markdown",
   "metadata": {},
   "source": [
    "装饰函数  \n",
    "这个函数是用来将另外一个函数增添功能，然后装成一个新的函数返回，这个新函数的运行返回结果是一致的。  \n",
    "如果要向新函数传递新的参数，可以再最外层再套一层函数。"
   ]
  },
  {
   "cell_type": "code",
   "execution_count": 25,
   "metadata": {},
   "outputs": [],
   "source": [
    "def metric(fn):\n",
    "    import time\n",
    "    def wrapper(*args,**kw):\n",
    "        print('%s begin call in %s ms' % (fn.__name__, time.strftime(\"%Y-%m-%d %H:%M:%S\", time.localtime()) ))\n",
    "        fnresult = fn(*args, **kw)\n",
    "        print('%s end call in %s ms' % (fn.__name__, time.strftime(\"%Y-%m-%d %H:%M:%S\", time.localtime()) ))\n",
    "        return fnresult\n",
    "    return wrapper"
   ]
  },
  {
   "cell_type": "code",
   "execution_count": 28,
   "metadata": {},
   "outputs": [],
   "source": [
    "import time\n",
    "def metricWithArg(text):\n",
    "    def decorator(func):\n",
    "        def wrapper(*args,**kw):\n",
    "            print('%s begin call in %s ms' % (fn.__name__, time.strftime(\"%Y-%m-%d %H:%M:%S\", time.localtime()) ))\n",
    "            fnresult = fn(*args, **kw)\n",
    "            print('%s end call in %s ms' % (fn.__name__, time.strftime(\"%Y-%m-%d %H:%M:%S\", time.localtime()) ))\n",
    "            return fnresult\n",
    "        return wrapper\n",
    "    return decorator"
   ]
  },
  {
   "cell_type": "markdown",
   "metadata": {},
   "source": [
    "偏函数  \n",
    "functools.partial(f,arg)  \n",
    "将f函数的某些参数固定，并返回"
   ]
  }
 ],
 "metadata": {
  "kernelspec": {
   "display_name": "Python 3",
   "language": "python",
   "name": "python3"
  },
  "language_info": {
   "codemirror_mode": {
    "name": "ipython",
    "version": 3
   },
   "file_extension": ".py",
   "mimetype": "text/x-python",
   "name": "python",
   "nbconvert_exporter": "python",
   "pygments_lexer": "ipython3",
   "version": "3.7.0"
  }
 },
 "nbformat": 4,
 "nbformat_minor": 2
}
